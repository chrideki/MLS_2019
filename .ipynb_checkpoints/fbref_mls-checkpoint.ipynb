{
 "cells": [
  {
   "cell_type": "code",
   "execution_count": 118,
   "metadata": {},
   "outputs": [],
   "source": [
    "import numpy as np\n",
    "import requests\n",
    "from bs4 import BeautifulSoup, SoupStrainer\n",
    "import pandas as pd\n",
    "import re\n",
    "import datetime\n",
    "from datetime import date\n",
    "import dateutil"
   ]
  },
  {
   "cell_type": "code",
   "execution_count": 23,
   "metadata": {},
   "outputs": [],
   "source": [
    "# list of seasons from which gather data\n",
    "seasons = ['2019']"
   ]
  },
  {
   "cell_type": "code",
   "execution_count": 2,
   "metadata": {},
   "outputs": [],
   "source": [
    "url = \"https://fbref.com/en/comps/22/2798/2019-Major-League-Soccer-Stats\"\n",
    "response = requests.get(url)\n",
    "html = response.content\n",
    "parser = BeautifulSoup(html, 'lxml')"
   ]
  },
  {
   "cell_type": "code",
   "execution_count": 38,
   "metadata": {},
   "outputs": [
    {
     "data": {
      "text/plain": [
       "24"
      ]
     },
     "execution_count": 38,
     "metadata": {},
     "output_type": "execute_result"
    }
   ],
   "source": [
    "# getting the links for each team in eastern and weastern conference\n",
    "\n",
    "tables = parser.find_all('table', id = re.compile('overall'))\n",
    "link_team = []\n",
    "\n",
    "# with this loop I get the links for each team in Serie A \n",
    "\n",
    "for table in tables:\n",
    "    for link in table.find_all('a'):\n",
    "            if 'squads' in str(link):\n",
    "                link_team.append(link.get('href'))\n",
    "                \n",
    "len(link_team)"
   ]
  },
  {
   "cell_type": "code",
   "execution_count": 43,
   "metadata": {},
   "outputs": [
    {
     "data": {
      "text/plain": [
       "708"
      ]
     },
     "execution_count": 43,
     "metadata": {},
     "output_type": "execute_result"
    }
   ],
   "source": [
    "''' \n",
    "with this loop I get link, position, and number of games in the last season\n",
    "for each player in the team\n",
    "'''\n",
    "\n",
    "link_player = {'link': [], 'position':[], 'MP':[]}\n",
    "\n",
    "for link in link_team:\n",
    "    team_response = requests.get('https://fbref.com' + link)\n",
    "    team_html = team_response.content\n",
    "    team_parser = BeautifulSoup(team_html, 'lxml')\n",
    "    team_table = team_parser.find('table')\n",
    "    for link in team_table.find_all('a'):\n",
    "        if 'player' in str(link):\n",
    "            if 'matchlogs' not in str(link):\n",
    "                #link_player.append(link.get('href'))\n",
    "                link_player['link'].append(link.get('href'))\n",
    "    for row in team_table.find_all('td', attrs = {'data-stat':'position'}):\n",
    "        if str(row.text) != \"\":\n",
    "            link_player['position'].append(str(row.text))\n",
    "    rows = 0\n",
    "    for row in team_table.find_all('td', attrs = {'data-stat':'games'}):\n",
    "        rows += 1\n",
    "        # each table has two more rows with totals I don't need here \n",
    "        if rows +1 < len(team_table.find_all('td', attrs = {'data-stat':'games'})):\n",
    "            link_player['MP'].append(str(row.text))\n",
    "                \n",
    "\n",
    "len(link_player['MP'])\n",
    "                                           "
   ]
  },
  {
   "cell_type": "code",
   "execution_count": 44,
   "metadata": {},
   "outputs": [
    {
     "data": {
      "text/plain": [
       "Counter({'DF': 219,\n",
       "         'MF': 127,\n",
       "         'GK': 76,\n",
       "         'MF,FW': 58,\n",
       "         'FW,MF': 86,\n",
       "         'FW': 99,\n",
       "         'DF,MF': 13,\n",
       "         'MF,DF': 12,\n",
       "         'DF,FW': 9,\n",
       "         'FW,DF': 8,\n",
       "         'DF,GK': 1})"
      ]
     },
     "execution_count": 44,
     "metadata": {},
     "output_type": "execute_result"
    }
   ],
   "source": [
    "# frequency table by position\n",
    "from collections import Counter\n",
    "Counter(link_player['position'])"
   ]
  },
  {
   "cell_type": "code",
   "execution_count": 45,
   "metadata": {},
   "outputs": [
    {
     "data": {
      "text/plain": [
       "Counter({'31': 18,\n",
       "         '30': 26,\n",
       "         '29': 22,\n",
       "         '24': 17,\n",
       "         '22': 22,\n",
       "         '19': 13,\n",
       "         '20': 18,\n",
       "         '18': 16,\n",
       "         '23': 17,\n",
       "         '17': 24,\n",
       "         '12': 13,\n",
       "         '5': 16,\n",
       "         '6': 20,\n",
       "         '3': 19,\n",
       "         '1': 34,\n",
       "         '0': 62,\n",
       "         '34': 18,\n",
       "         '33': 14,\n",
       "         '32': 26,\n",
       "         '28': 28,\n",
       "         '25': 20,\n",
       "         '27': 20,\n",
       "         '15': 14,\n",
       "         '13': 16,\n",
       "         '11': 18,\n",
       "         '4': 23,\n",
       "         '2': 19,\n",
       "         '26': 21,\n",
       "         '7': 20,\n",
       "         '8': 22,\n",
       "         '14': 9,\n",
       "         '16': 17,\n",
       "         '9': 20,\n",
       "         '10': 19,\n",
       "         '21': 7})"
      ]
     },
     "execution_count": 45,
     "metadata": {},
     "output_type": "execute_result"
    }
   ],
   "source": [
    "Counter(link_player['MP'])"
   ]
  },
  {
   "cell_type": "code",
   "execution_count": 8,
   "metadata": {},
   "outputs": [],
   "source": [
    "# Same result with\n",
    "#MP_value = pd.Index(link_player['MP'])\n",
    "#MP_value.value_counts()\n",
    "#MP_value.value_counts(normalize=True)"
   ]
  },
  {
   "cell_type": "code",
   "execution_count": 46,
   "metadata": {},
   "outputs": [
    {
     "data": {
      "text/html": [
       "<div>\n",
       "<style scoped>\n",
       "    .dataframe tbody tr th:only-of-type {\n",
       "        vertical-align: middle;\n",
       "    }\n",
       "\n",
       "    .dataframe tbody tr th {\n",
       "        vertical-align: top;\n",
       "    }\n",
       "\n",
       "    .dataframe thead th {\n",
       "        text-align: right;\n",
       "    }\n",
       "</style>\n",
       "<table border=\"1\" class=\"dataframe\">\n",
       "  <thead>\n",
       "    <tr style=\"text-align: right;\">\n",
       "      <th></th>\n",
       "      <th>link</th>\n",
       "      <th>position</th>\n",
       "      <th>MP</th>\n",
       "    </tr>\n",
       "  </thead>\n",
       "  <tbody>\n",
       "    <tr>\n",
       "      <td>0</td>\n",
       "      <td>/en/players/ca366055/Maxime-Chanot</td>\n",
       "      <td>DF</td>\n",
       "      <td>31</td>\n",
       "    </tr>\n",
       "    <tr>\n",
       "      <td>1</td>\n",
       "      <td>/en/players/6c1221d6/Alexander-Ring</td>\n",
       "      <td>MF</td>\n",
       "      <td>31</td>\n",
       "    </tr>\n",
       "    <tr>\n",
       "      <td>2</td>\n",
       "      <td>/en/players/0fe96099/Anton-Tinnerholm</td>\n",
       "      <td>DF</td>\n",
       "      <td>30</td>\n",
       "    </tr>\n",
       "    <tr>\n",
       "      <td>3</td>\n",
       "      <td>/en/players/c164335e/Sean-Johnson</td>\n",
       "      <td>GK</td>\n",
       "      <td>29</td>\n",
       "    </tr>\n",
       "    <tr>\n",
       "      <td>4</td>\n",
       "      <td>/en/players/f99f37fc/Maximiliano-Moralez</td>\n",
       "      <td>MF,FW</td>\n",
       "      <td>29</td>\n",
       "    </tr>\n",
       "  </tbody>\n",
       "</table>\n",
       "</div>"
      ],
      "text/plain": [
       "                                       link position  MP\n",
       "0        /en/players/ca366055/Maxime-Chanot       DF  31\n",
       "1       /en/players/6c1221d6/Alexander-Ring       MF  31\n",
       "2     /en/players/0fe96099/Anton-Tinnerholm       DF  30\n",
       "3         /en/players/c164335e/Sean-Johnson       GK  29\n",
       "4  /en/players/f99f37fc/Maximiliano-Moralez    MF,FW  29"
      ]
     },
     "execution_count": 46,
     "metadata": {},
     "output_type": "execute_result"
    }
   ],
   "source": [
    "# creating a dataframe from the dictionary\n",
    "data_link = pd.DataFrame.from_dict(link_player)\n",
    "data_link['MP'] = data_link['MP'].astype('int')\n",
    "#data_link = data_link.drop_duplicates()\n",
    "data_link.head()"
   ]
  },
  {
   "cell_type": "code",
   "execution_count": 47,
   "metadata": {},
   "outputs": [
    {
     "data": {
      "text/plain": [
       "597"
      ]
     },
     "execution_count": 47,
     "metadata": {},
     "output_type": "execute_result"
    }
   ],
   "source": [
    "# now I subset the data by position (all but goalkeeper) and games played (more than zero)\n",
    "new_data_link = data_link[data_link['position'] != 'GK']\n",
    "new_data_link = new_data_link[new_data_link['MP'] > 0]\n",
    "len(new_data_link)"
   ]
  },
  {
   "cell_type": "code",
   "execution_count": 48,
   "metadata": {},
   "outputs": [
    {
     "data": {
      "text/plain": [
       "574"
      ]
     },
     "execution_count": 48,
     "metadata": {},
     "output_type": "execute_result"
    }
   ],
   "source": [
    "# I drop duplicates links\n",
    "\n",
    "link_list = list(set(new_data_link['link']))\n",
    "len(link_list)"
   ]
  },
  {
   "cell_type": "code",
   "execution_count": 168,
   "metadata": {},
   "outputs": [
    {
     "data": {
      "text/plain": [
       "datetime.datetime(2002, 3, 25, 0, 0)"
      ]
     },
     "execution_count": 168,
     "metadata": {},
     "output_type": "execute_result"
    }
   ],
   "source": [
    "stats = pd.DataFrame()\n",
    "player_response = requests.get('https://fbref.com/en/players/585cba12/Alfonso-Ocampo-Chavez')\n",
    "player_html = player_response.content\n",
    "player_parser_gen = BeautifulSoup(player_html, 'lxml')\n",
    "#player_parser = BeautifulSoup(player_html, 'lxml')\n",
    "#player_table = player_parser.find_all('table')\n",
    "birth_date = player_parser_gen.find(itemprop='birthDate').text\n",
    "#birth_date = birth_date.text\n",
    "birth_date = birth_date.replace('\\n', '').strip()\n",
    "birth_date = datetime.strptime(birth_date, '%B %d, %Y')\n",
    "\n",
    "#birth_date = birth_date.astype('datetime64[ns]')\n",
    "dateutil.relativedelta.relativedelta(date.today(),birth_date)\n",
    "birth_date"
   ]
  },
  {
   "cell_type": "code",
   "execution_count": 171,
   "metadata": {},
   "outputs": [],
   "source": [
    "# with this loop I get the data for each player in each season\n",
    "\n",
    "players = []\n",
    "\n",
    "for link in link_list:\n",
    "    player_response = requests.get('https://fbref.com' + link)\n",
    "    player_html = player_response.content\n",
    "    player_parser = BeautifulSoup(player_html, 'lxml')\n",
    "    player_table = player_parser.find_all('table')\n",
    "    \n",
    "    stats = pd.DataFrame()\n",
    "    \n",
    "    if len(player_table) > 0:\n",
    "        for t in range(len(player_table)):\n",
    "            p_table = pd.read_html(str(player_table))\n",
    "            p_table = pd.DataFrame(p_table[t])\n",
    "\n",
    "            # changing the columns' names in one row (thus I overcome multi-index problems)\n",
    "            col_name = p_table.columns\n",
    "            new_colname = []\n",
    "            for i in col_name:\n",
    "                if 'Unnamed' in i[0]:\n",
    "                    new_colname.append(str(i[1]))\n",
    "                else:\n",
    "                    new_colname.append(str(i[0]) + \"_\" + str(i[1]))\n",
    "            p_table.columns = new_colname\n",
    "\n",
    "            p_table = p_table[p_table['Season'].isin(seasons)]\n",
    "            \n",
    "\n",
    "            common_columns = list (set(p_table.columns) & set(stats.columns))\n",
    "            \n",
    "            if len(stats) == 0:\n",
    "                stats = p_table\n",
    "            else: \n",
    "                stats = pd.merge(p_table, stats, how='inner', on=common_columns)\n",
    "\n",
    "        #players.append(stats)\n",
    "        \n",
    "        player_parser_gen = BeautifulSoup(player_html, 'lxml')\n",
    "\n",
    "        name = player_parser_gen.find('h1')       \n",
    "        stats['name'] = name.text.strip()\n",
    "        \n",
    "        pos_lab = player_parser_gen.find('div', itemtype='https://schema.org/Person').text\n",
    "        \n",
    "        if 'Position:' in pos_lab:\n",
    "            idx = pos_lab.index('Position: ')\n",
    "            left_cut = pos_lab[:idx+10]\n",
    "            pos_clean1 = pos_lab.replace(left_cut, '')\n",
    "            pos_clean2 = re.sub('\\n.*','',pos_clean1)\n",
    "            stats['position'] = pos_clean2\n",
    "        else: stats['position'] = None\n",
    "        \n",
    "        height = player_parser_gen.find(itemprop = 'height') \n",
    "        if height is not None:\n",
    "            stats['height'] = height.text\n",
    "        else: stats['height'] = None\n",
    "        \n",
    "        weight = player_parser_gen.find(itemprop = 'weight')\n",
    "        if weight is not None:\n",
    "            stats['weight'] = weight.text\n",
    "        else: stats['weight'] = None\n",
    "        \n",
    "        birth_date = player_parser_gen.find(id = 'necro-birth')\n",
    "        if birth_date is not None:\n",
    "            bd = birth_date.text\n",
    "            bd = bd.replace('\\n', '').strip()\n",
    "            bd = datetime.strptime(bd, '%B %d, %Y')\n",
    "            stats['birth_date'] = bd\n",
    "            age = dateutil.relativedelta.relativedelta(date.today(), bd)\n",
    "            stats['age'] = age.years\n",
    "        else: stats['birth_date'] = None\n",
    "    \n",
    "        stats['ID'] = stats['Season']+\"_\"+stats['name']+\"_\"+stats['Squad']\n",
    "        \n",
    "        players.append(stats)\n",
    "       "
   ]
  },
  {
   "cell_type": "code",
   "execution_count": 172,
   "metadata": {},
   "outputs": [
    {
     "data": {
      "text/plain": [
       "573"
      ]
     },
     "execution_count": 172,
     "metadata": {},
     "output_type": "execute_result"
    }
   ],
   "source": [
    "len(players)"
   ]
  },
  {
   "cell_type": "code",
   "execution_count": 173,
   "metadata": {},
   "outputs": [],
   "source": [
    "backup_players = players"
   ]
  },
  {
   "cell_type": "code",
   "execution_count": 174,
   "metadata": {},
   "outputs": [
    {
     "data": {
      "text/plain": [
       "Counter({193: 532, 192: 36, 178: 4, 207: 1})"
      ]
     },
     "execution_count": 174,
     "metadata": {},
     "output_type": "execute_result"
    }
   ],
   "source": [
    "# not every player has the same number of stats available\n",
    "# so they don't have the same number of columns\n",
    "lengs =[]\n",
    "for i in range(len(backup_players)):\n",
    "    lengs.append(len(backup_players[i].columns))\n",
    "\n",
    "Counter(lengs)    "
   ]
  },
  {
   "cell_type": "code",
   "execution_count": 175,
   "metadata": {},
   "outputs": [],
   "source": [
    "# with this loop I calculate the max number of columns and the list of names of these columns\n",
    "n_max_col = 0\n",
    "names_col = []\n",
    "for player in players:\n",
    "    c = len(player.columns)\n",
    "    if c > n_max_col:\n",
    "        n_max_col = c\n",
    "        names_col = player.columns       "
   ]
  },
  {
   "cell_type": "code",
   "execution_count": 176,
   "metadata": {},
   "outputs": [],
   "source": [
    "# with this loop for each player I add the missing columns with value None\n",
    "# thus every player has the same number of columns and it's possible to concat them in one data set\n",
    "\n",
    "for player in players:\n",
    "    if len(player.columns) < n_max_col:\n",
    "        missing_col = np.setdiff1d(names_col, player.columns, assume_unique=True)\n",
    "        for col in missing_col:\n",
    "            player[col] = None"
   ]
  },
  {
   "cell_type": "code",
   "execution_count": 177,
   "metadata": {},
   "outputs": [
    {
     "name": "stderr",
     "output_type": "stream",
     "text": [
      "/opt/anaconda3/lib/python3.7/site-packages/ipykernel_launcher.py:3: FutureWarning: Sorting because non-concatenation axis is not aligned. A future version\n",
      "of pandas will change to not sort by default.\n",
      "\n",
      "To accept the future behavior, pass 'sort=False'.\n",
      "\n",
      "To retain the current behavior and silence the warning, pass 'sort=True'.\n",
      "\n",
      "  This is separate from the ipykernel package so we can avoid doing imports until\n"
     ]
    }
   ],
   "source": [
    "# now it's possible to concat every player in one data frame\n",
    "\n",
    "data_player = pd.concat(players)"
   ]
  },
  {
   "cell_type": "code",
   "execution_count": null,
   "metadata": {},
   "outputs": [],
   "source": [
    "#list(data_player.columns)"
   ]
  },
  {
   "cell_type": "code",
   "execution_count": 178,
   "metadata": {},
   "outputs": [],
   "source": [
    "data_player.to_csv ('mls_player.csv', index = False, header=True)"
   ]
  },
  {
   "cell_type": "code",
   "execution_count": null,
   "metadata": {},
   "outputs": [],
   "source": []
  },
  {
   "cell_type": "code",
   "execution_count": null,
   "metadata": {},
   "outputs": [],
   "source": []
  },
  {
   "cell_type": "code",
   "execution_count": null,
   "metadata": {},
   "outputs": [],
   "source": []
  }
 ],
 "metadata": {
  "kernelspec": {
   "display_name": "Python 3",
   "language": "python",
   "name": "python3"
  },
  "language_info": {
   "codemirror_mode": {
    "name": "ipython",
    "version": 3
   },
   "file_extension": ".py",
   "mimetype": "text/x-python",
   "name": "python",
   "nbconvert_exporter": "python",
   "pygments_lexer": "ipython3",
   "version": "3.7.4"
  }
 },
 "nbformat": 4,
 "nbformat_minor": 4
}
